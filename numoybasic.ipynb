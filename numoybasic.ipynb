{
 "cells": [
  {
   "cell_type": "code",
   "execution_count": 2,
   "id": "8b00f76d-8ef3-46eb-b6ec-94dfd878ef37",
   "metadata": {},
   "outputs": [],
   "source": [
    "import numpy as np\n",
    "list_ = ['1', '2', '3', '4', '5']\n",
    "array_list = np.array(list_)"
   ]
  },
  {
   "cell_type": "code",
   "execution_count": 3,
   "id": "c8f83832-a511-46e7-aace-5b2b9af1787e",
   "metadata": {},
   "outputs": [
    {
     "name": "stdout",
     "output_type": "stream",
     "text": [
      "Data type of list_:  <class 'list'>\n",
      "Data type of array_list:  <class 'numpy.ndarray'>\n"
     ]
    }
   ],
   "source": [
    "#Q1. Difference in data type of variables list_ and array_list\n",
    "\n",
    "import numpy as np\n",
    "\n",
    "list_ = ['1', '2', '3', '4', '5']\n",
    "array_list = np.array(list_)\n",
    "\n",
    "print(\"Data type of list_: \", type(list_))\n",
    "print(\"Data type of array_list: \", type(array_list))"
   ]
  },
  {
   "cell_type": "code",
   "execution_count": 4,
   "id": "51cb0d37-a372-4496-bd0c-3a79eedf4665",
   "metadata": {},
   "outputs": [
    {
     "name": "stdout",
     "output_type": "stream",
     "text": [
      "Data type of each element in list_: \n",
      "<class 'str'>\n",
      "<class 'str'>\n",
      "<class 'str'>\n",
      "<class 'str'>\n",
      "<class 'str'>\n",
      "\n",
      "Data type of each element in array_list: \n",
      "<U1\n",
      "<U1\n",
      "<U1\n",
      "<U1\n",
      "<U1\n"
     ]
    }
   ],
   "source": [
    "#Q2. Print the data type of each element of both variables\n",
    "\n",
    "\n",
    "\n",
    "import numpy as np\n",
    "\n",
    "list_ = ['1', '2', '3', '4', '5']\n",
    "array_list = np.array(list_)\n",
    "\n",
    "print(\"Data type of each element in list_: \")\n",
    "for elem in list_:\n",
    "    print(type(elem))\n",
    "\n",
    "print(\"\\nData type of each element in array_list: \")\n",
    "for elem in array_list:\n",
    "    print(elem.dtype)  # or type(elem) for Python type"
   ]
  },
  {
   "cell_type": "code",
   "execution_count": 5,
   "id": "82c4f38f-4411-4eba-aee6-e5a81a9a8ad1",
   "metadata": {},
   "outputs": [],
   "source": [
    "array_list = np.array(object = list_, dtype = int)"
   ]
  },
  {
   "cell_type": "code",
   "execution_count": 6,
   "id": "fa39e9b4-4cb4-47e3-a438-fb4c10d7d842",
   "metadata": {},
   "outputs": [
    {
     "name": "stdout",
     "output_type": "stream",
     "text": [
      "Data type of each element in list_: \n",
      "<class 'str'>\n",
      "<class 'str'>\n",
      "<class 'str'>\n",
      "<class 'str'>\n",
      "<class 'str'>\n",
      "\n",
      "Data type of each element in array_list: \n",
      "<class 'numpy.int64'>\n",
      "<class 'numpy.int64'>\n",
      "<class 'numpy.int64'>\n",
      "<class 'numpy.int64'>\n",
      "<class 'numpy.int64'>\n"
     ]
    }
   ],
   "source": [
    "#Q3. Difference in data type of elements with dtype=int\n",
    "import numpy as np\n",
    "\n",
    "list_ = ['1', '2', '3', '4', '5']\n",
    "array_list = np.array(object=list_, dtype=int)\n",
    "\n",
    "print(\"Data type of each element in list_: \")\n",
    "for elem in list_:\n",
    "    print(type(elem))\n",
    "\n",
    "print(\"\\nData type of each element in array_list: \")\n",
    "for elem in array_list:\n",
    "    print(type(elem))"
   ]
  },
  {
   "cell_type": "code",
   "execution_count": 7,
   "id": "6eadb263-d8d0-4a7d-b5f2-edfa2c9d9092",
   "metadata": {},
   "outputs": [],
   "source": [
    "import numpy as np\n",
    "num_list = [ [ 1 , 2 , 3 ] , [ 4 , 5 , 6 ] ]\n",
    "num_array = np.array(object = num_list)"
   ]
  },
  {
   "cell_type": "code",
   "execution_count": 8,
   "id": "22133459-ef4b-4ad5-baf5-da9871b045c7",
   "metadata": {},
   "outputs": [
    {
     "name": "stdout",
     "output_type": "stream",
     "text": [
      "Shape of num_array:  (2, 3)\n",
      "Size of num_array:  6\n"
     ]
    }
   ],
   "source": [
    "#Q4. Characteristics of num_array\n",
    "import numpy as np\n",
    "\n",
    "num_list = [[1, 2, 3], [4, 5, 6]]\n",
    "num_array = np.array(object=num_list)\n",
    "\n",
    "# (i) Shape\n",
    "print(\"Shape of num_array: \", num_array.shape)\n",
    "\n",
    "# (ii) Size\n",
    "print(\"Size of num_array: \", num_array.size)"
   ]
  },
  {
   "cell_type": "code",
   "execution_count": 9,
   "id": "7f3a332f-8eb3-4c54-824b-7d439083e358",
   "metadata": {},
   "outputs": [
    {
     "name": "stdout",
     "output_type": "stream",
     "text": [
      "Array of zeros:\n",
      "[[0. 0. 0.]\n",
      " [0. 0. 0.]\n",
      " [0. 0. 0.]]\n",
      "\n",
      "Shape of zeros_array:  (3, 3)\n",
      "\n",
      "Size of zeros_array:  9\n"
     ]
    }
   ],
   "source": [
    "#Q5. Create a 3 × 3 NumPy array of zeros\n",
    "import numpy as np\n",
    "\n",
    "zeros_array = np.zeros((3, 3))\n",
    "\n",
    "print(\"Array of zeros:\")\n",
    "print(zeros_array)\n",
    "print(\"\\nShape of zeros_array: \", zeros_array.shape)\n",
    "print(\"\\nSize of zeros_array: \", zeros_array.size)"
   ]
  },
  {
   "cell_type": "code",
   "execution_count": null,
   "id": "754eb28e-e5c8-4ec6-a767-0af42bc0e67e",
   "metadata": {},
   "outputs": [],
   "source": []
  }
 ],
 "metadata": {
  "kernelspec": {
   "display_name": "Python 3 (ipykernel)",
   "language": "python",
   "name": "python3"
  },
  "language_info": {
   "codemirror_mode": {
    "name": "ipython",
    "version": 3
   },
   "file_extension": ".py",
   "mimetype": "text/x-python",
   "name": "python",
   "nbconvert_exporter": "python",
   "pygments_lexer": "ipython3",
   "version": "3.10.8"
  }
 },
 "nbformat": 4,
 "nbformat_minor": 5
}
